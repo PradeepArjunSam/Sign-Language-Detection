import streamlit as st
import cv2
import mediapipe as mp
import numpy as np
import pickle
from PIL import Image
# Load an image from a local file
image = Image.open('C:/Users/Tanisha/Downloads/welcome.jpg')

# Display the image in the Streamlit app
st.image(image)

# Function for alphabets
def alphabet_detection():
    # Load the trained model for alphabets
    model_dict = pickle.load(open('./model_alphabets.p', 'rb'))
    model = model_dict['model']


    mp_hands = mp.solutions.hands
    mp_drawing = mp.solutions.drawing_utils
    mp_drawing_styles = mp.solutions.drawing_styles

    hands = mp_hands.Hands(static_image_mode=True, min_detection_confidence=0.3)

    labels_dict = {0: 'A', 1: 'B', 2: 'C', 3: 'D', 4: 'E', 5: 'F', 6: 'G', 7: 'H', 8: 'I', 9: 'J'}

    # Streamlit app title
    st.title("Sign Language Detection")

    # Create a Streamlit canvas for displaying video
    canvas = st.empty()

    # Open a webcam feed
    cap = cv2.VideoCapture(0)

    while True:
        data_aux = []
        x_ = []
        y_ = []

        # Read a frame from the webcam
        ret, frame = cap.read()

        H, W, _ = frame.shape

        frame_rgb = cv2.cvtColor(frame, cv2.COLOR_BGR2RGB)

        results = hands.process(frame_rgb)
        if results.multi_hand_landmarks:
            for hand_landmarks in results.multi_hand_landmarks:
                mp_drawing.draw_landmarks(
                    frame,
                    hand_landmarks,
                    mp_hands.HAND_CONNECTIONS,
                    mp_drawing_styles.get_default_hand_landmarks_style(),
                    mp_drawing_styles.get_default_hand_connections_style())

            for hand_landmarks in results.multi_hand_landmarks:
                for i in range(len(hand_landmarks.landmark)):
                    x = hand_landmarks.landmark[i].x
                    y = hand_landmarks.landmark[i].y

                    x_.append(x)
                    y_.append(y)

                for i in range(len(hand_landmarks.landmark)):
                    x = hand_landmarks.landmark[i].x
                    y = hand_landmarks.landmark[i].y
                    data_aux.append(x - min(x_))
                    data_aux.append(y - min(y_))

            x1 = int(min(x_) * W) - 10
            y1 = int(min(y_) * H) - 10

            x2 = int(max(x_) * W) - 10
            y2 = int(max(y_) * H) - 10

            prediction = model.predict([np.asarray(data_aux)])

            predicted_character = labels_dict[int(prediction[0])]

            cv2.rectangle(frame, (x1, y1), (x2, y2), (0, 0, 0), 4)
            cv2.putText(frame, predicted_character, (x1, y1 - 10), cv2.FONT_HERSHEY_SIMPLEX, 1.3, (0, 0, 0), 3,
                        cv2.LINE_AA)

        # Display the frame using Streamlit
        canvas.image(frame, channels="BGR")

    # Release the webcam and close the Streamlit app when done
    cap.release()

# Function for numbers
def number_detection():
    # Load the trained model for numbers
    model_dict = pickle.load(open('./model_numbers.p', 'rb'))
    model = model_dict['model']

    mp_hands = mp.solutions.hands
    mp_drawing = mp.solutions.drawing_utils
    mp_drawing_styles = mp.solutions.drawing_styles

    hands = mp_hands.Hands(static_image_mode=True, min_detection_confidence=0.3)

    labels_dict = {
        0: 'One',
        1: 'Two',
        2: 'Three',
        3: 'Four',
        4: 'Five',
        5: 'Six',
        6: 'Seven',
        7: 'Eight',
        8: 'Nine',
        9: 'Ten'
    }

    # Streamlit app title
    st.title("Sign Language Detection")

    # Create a Streamlit canvas for displaying video
    canvas = st.empty()

    # Open a webcam feed
    cap = cv2.VideoCapture(0)

    while True:
        data_aux = []
        x_ = []
        y_ = []

        # Read a frame from the webcam
        ret, frame = cap.read()

        H, W, _ = frame.shape

        frame_rgb = cv2.cvtColor(frame, cv2.COLOR_BGR2RGB)

        results = hands.process(frame_rgb)
        if results.multi_hand_landmarks:
            for hand_landmarks in results.multi_hand_landmarks:
                mp_drawing.draw_landmarks(
                    frame,
                    hand_landmarks,
                    mp_hands.HAND_CONNECTIONS,
                    mp_drawing_styles.get_default_hand_landmarks_style(),
                    mp_drawing_styles.get_default_hand_connections_style())

            for hand_landmarks in results.multi_hand_landmarks:
                for i in range(len(hand_landmarks.landmark)):
                    x = hand_landmarks.landmark[i].x
                    y = hand_landmarks.landmark[i].y

                    x_.append(x)
                    y_.append(y)

                for i in range(len(hand_landmarks.landmark)):
                    x = hand_landmarks.landmark[i].x
                    y = hand_landmarks.landmark[i].y
                    data_aux.append(x - min(x_))
                    data_aux.append(y - min(y_))

            x1 = int(min(x_) * W) - 10
            y1 = int(min(y_) * H) - 10

            x2 = int(max(x_) * W) - 10
            y2 = int(max(y_) * H) - 10

            prediction = model.predict([np.asarray(data_aux)])

            predicted_character = labels_dict[int(prediction[0])]

            cv2.rectangle(frame, (x1, y1), (x2, y2), (0, 0, 0), 4)
            cv2.putText(frame, predicted_character, (x1, y1 - 10), cv2.FONT_HERSHEY_SIMPLEX, 1.3, (0, 0, 0), 3,
                        cv2.LINE_AA)

        # Display the frame using Streamlit
        canvas.image(frame, channels="BGR")

    # Release the webcam and close the Streamlit app when done
    cap.release()


# Function for words
def word_detection():
    # Load the trained model for words
    model_dict = pickle.load(open('./model_words.p', 'rb'))
    model = model_dict['model']

    mp_hands = mp.solutions.hands
    mp_drawing = mp.solutions.drawing_utils
    mp_drawing_styles = mp.solutions.drawing_styles

    hands = mp_hands.Hands(static_image_mode=True, min_detection_confidence=0.3)

    labels_dict = {0:'Yes', 1:'No', 2:'Thankyou', 3:'Hello', 4:'I Love You', 5:'Good Bye', 6:'Welcome',7:'Please',8:'Sorry'}

    # Streamlit app title
    st.title("Sign Language Detection")

    # Create a Streamlit canvas for displaying video
    canvas = st.empty()

    # Open a webcam feed
    cap = cv2.VideoCapture(0)

    while True:
        data_aux = []
        x_ = []
        y_ = []

        # Read a frame from the webcam
        ret, frame = cap.read()

        H, W, _ = frame.shape

        frame_rgb = cv2.cvtColor(frame, cv2.COLOR_BGR2RGB)

        results = hands.process(frame_rgb)
        if results.multi_hand_landmarks:
            for hand_landmarks in results.multi_hand_landmarks:
                mp_drawing.draw_landmarks(
                    frame,
                    hand_landmarks,
                    mp_hands.HAND_CONNECTIONS,
                    mp_drawing_styles.get_default_hand_landmarks_style(),
                    mp_drawing_styles.get_default_hand_connections_style())

            for hand_landmarks in results.multi_hand_landmarks:
                for i in range(len(hand_landmarks.landmark)):
                    x = hand_landmarks.landmark[i].x
                    y = hand_landmarks.landmark[i].y

                    x_.append(x)
                    y_.append(y)

                for i in range(len(hand_landmarks.landmark)):
                    x = hand_landmarks.landmark[i].x
                    y = hand_landmarks.landmark[i].y
                    data_aux.append(x - min(x_))
                    data_aux.append(y - min(y_))

            x1 = int(min(x_) * W) - 10
            y1 = int(min(y_) * H) - 10

            x2 = int(max(x_) * W) - 10
            y2 = int(max(y_) * H) - 10

            prediction = model.predict([np.asarray(data_aux)])

            predicted_character = labels_dict[int(prediction[0])]

            cv2.rectangle(frame, (x1, y1), (x2, y2), (0, 0, 0), 4)
            cv2.putText(frame, predicted_character, (x1, y1 - 10), cv2.FONT_HERSHEY_SIMPLEX, 1.3, (0, 0, 0), 3,
                        cv2.LINE_AA)

        # Display the frame using Streamlit
        canvas.image(frame, channels="BGR")

    # Release the webcam and close the Streamlit app when done
    cap.release()


# Streamlit app title
st.title("Sign Language Detection")

# Sidebar for selecting the detection type
detection_type = st.sidebar.radio("Select Detection Type", ["Alphabets", "Numbers", "Words"])

# Create buttons to trigger different detections
if st.button("Start Detection"):
    if detection_type == "Alphabets":
        alphabet_detection()
    elif detection_type == "Numbers":
        number_detection()
    elif detection_type == "Words":
        word_detection()

# Display the video feed or results
if st.checkbox("Show Video Feed"):
    # Add the code to display the video feed (similar to previous examples)
    pass
